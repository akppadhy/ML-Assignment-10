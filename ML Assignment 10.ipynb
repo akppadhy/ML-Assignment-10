{
 "cells": [
  {
   "cell_type": "code",
   "execution_count": null,
   "id": "8295dbe3-28f5-4d94-8c21-b9bb5bdb126c",
   "metadata": {},
   "outputs": [],
   "source": [
    "#1. Define the Bayesian interpretation of probability.\n",
    "\n",
    "Ans: Bayesian probability is the study of subjective probabilities or belief in an outcome, compared to the frequentist approach\n",
    "where probabilities are based purely on the past occurrence of the event. A Bayesian Network captures the joint probabilities of\n",
    "the events represented by the model."
   ]
  },
  {
   "cell_type": "code",
   "execution_count": null,
   "id": "296ce39b-f698-43d2-9578-43935bbb9581",
   "metadata": {},
   "outputs": [],
   "source": [
    "#2. Define probability of a union of two events with equation.\n",
    "\n",
    "Ans: The general probability addition rule for the union of two events states that P(A∪B)=P(A)+P(B)−P(A∩B), where A∩B is the \n",
    "intersection of the two sets."
   ]
  },
  {
   "cell_type": "code",
   "execution_count": null,
   "id": "20e4bd26-8a8f-4a6d-b88d-059947eb2bef",
   "metadata": {},
   "outputs": [],
   "source": [
    "#3. What is joint probability? What is its formula?\n",
    "\n",
    "Ans: Probabilities are combined using multiplication, therefore the joint probability of independent events is calculated as the\n",
    "probability of event A multiplied by the probability of event B. This can be stated formally as follows:\n",
    "\n",
    "Joint Probability: P(A and B) = P(A)*P(B)"
   ]
  },
  {
   "cell_type": "code",
   "execution_count": null,
   "id": "c658e86a-33d9-4016-8490-3d755cf768ae",
   "metadata": {},
   "outputs": [],
   "source": [
    "#4. What is chain rule of probability?\n",
    "\n",
    "Ans: The chain rule, or general product rule, calculates any component of the joint distribution of a set of random variables\n",
    "using only conditional probabilities. This probability theory is used as a foundation for backpropagation and in creating \n",
    "Bayesian networks."
   ]
  },
  {
   "cell_type": "code",
   "execution_count": null,
   "id": "75e09a6e-c781-4925-94d5-01070d9e0451",
   "metadata": {},
   "outputs": [],
   "source": [
    "#5. What is conditional probability means? What is the formula of it?\n",
    "\n",
    "Ans: Conditional probability is defined as the likelihood of an event or outcome occurring, based on the occurrence of a previous\n",
    "event or outcome.\n",
    "\n",
    "Conditional probability is calculated by multiplying the probability of the preceding event by the updated probability of the \n",
    "succeeding, or conditional, event.\n",
    "\n",
    "Let's take a real-life example. Probability of selling a TV on a given normal day may be only 30%. But if we consider that given\n",
    "day is Diwali, then there are much more chances of selling a TV. The conditional Probability of selling a TV on a day given that\n",
    "Day is Diwali might be 70%."
   ]
  },
  {
   "cell_type": "code",
   "execution_count": null,
   "id": "aedf0d4d-621c-44cb-bcc4-87bfde6dac5f",
   "metadata": {},
   "outputs": [],
   "source": [
    "#6. What are continuous random variables?\n",
    "\n",
    "Ans: A continuous random variable X takes all values in a given interval of numbers. ▪ The probability distribution of a \n",
    "continuous random variable is shown by a density curve. ▪ The probability that X is between an interval of numbers is the area\n",
    "under the density curve between the interval endpoints."
   ]
  },
  {
   "cell_type": "code",
   "execution_count": null,
   "id": "b0213952-d533-4d7b-ae5d-e3d54af34d7e",
   "metadata": {},
   "outputs": [],
   "source": [
    "#7.  What are Bernoulli distributions? What is the formula of it?\n",
    "\n",
    "Ans: A Bernoulli distribution is a discrete probability distribution for a Bernoulli trial — a random experiment that has only \n",
    "two outcomes (usually called a Succes or a Failure).The expected value for a random variable, X.\n",
    "\n",
    "For a Bernoulli distribution is: E[X] = p.For example, if p = 0.04, then E[X] = 0.4"
   ]
  },
  {
   "cell_type": "code",
   "execution_count": null,
   "id": "964c9061-8ce3-4d3b-b566-5189b3582db7",
   "metadata": {},
   "outputs": [],
   "source": [
    "#8. What is binomial distribution? What is the formula?\n",
    "\n",
    "Ans: The binomial is a type of distribution that has two possible outcomes (the prefix “bi” means two, or twice).\n",
    "For example, a coin toss has only two possible outcomes: heads or tails and taking a test could have two possible outcomes: \n",
    "pass or fail.\n",
    "\n",
    "A Binomial Distribution shows either (S)uccess or (F)ailure."
   ]
  },
  {
   "cell_type": "code",
   "execution_count": null,
   "id": "fbd2abd6-6977-42e7-83a8-04df6ede034f",
   "metadata": {},
   "outputs": [],
   "source": [
    "#9. What is Poisson distribution? What is the formula?\n",
    "\n",
    "Ans: A Poisson distribution is defined as a discrete frequency distribution that gives the probability of the number of \n",
    "independent events that occur in the fixed time.\n",
    "\n",
    "In statistics, a Poisson distribution is a probability distribution that is used to show how many times an event is likely to \n",
    "occur over a specified period. ... The Poisson distribution is a discrete function, meaning that the variable can only take \n",
    "specific values in a (potentially infinite) list."
   ]
  },
  {
   "cell_type": "code",
   "execution_count": null,
   "id": "b9893c9c-f96e-4aa7-a32b-e4805b658248",
   "metadata": {},
   "outputs": [],
   "source": [
    "#10. Define covariance ?\n",
    "\n",
    "Ans: Covariance is a measure of how much two random variables vary together. It's similar to variance, but where variance tells\n",
    "you how a single variable varies, co variance tells you how two variables vary together."
   ]
  },
  {
   "cell_type": "code",
   "execution_count": null,
   "id": "dad48db2-ad53-4c99-849c-ce4d708705c0",
   "metadata": {},
   "outputs": [],
   "source": [
    "#11. Define correlation ?\n",
    "\n",
    "Ans: Correlation explains how one or more variables are related to each other. These variables can be input data features which\n",
    "have been used to forecast our target variable. It's a bi-variate analysis measure which describes the association between \n",
    "different variables."
   ]
  },
  {
   "cell_type": "code",
   "execution_count": null,
   "id": "dc021b06-8d75-4abb-9e8c-c6b03f634c33",
   "metadata": {},
   "outputs": [],
   "source": [
    "#12. Define sampling with replacement. Give example.\n",
    "\n",
    "Ans: If you sample with replacement, you would choose one person's name, put that person's name back in the hat, and then choose \n",
    "another name. The possibilities for your two-name sample are: John, John. John, Jack."
   ]
  },
  {
   "cell_type": "code",
   "execution_count": null,
   "id": "f4b98b5f-2d20-423b-b18d-ec3799ab64fc",
   "metadata": {},
   "outputs": [],
   "source": [
    "#13.  What is sampling without replacement? Give example.\n",
    "\n",
    "Ans: In sampling without replacement, each sample unit of the population has only one chance to be selected in the sample. \n",
    "For example, if one draws a simple random sample such that no unit occurs more than one time in the sample, the sample is drawn \n",
    "without replacement."
   ]
  },
  {
   "cell_type": "code",
   "execution_count": null,
   "id": "5bf5ef91-b044-41bc-97bd-1af2c9107906",
   "metadata": {},
   "outputs": [],
   "source": [
    "#14. .What is hypothesis? Give example.\n",
    "\n",
    "Ans: A hypothesis (plural hypotheses) is a proposed explanation for a phenomenon. For a hypothesis to be a scientific hypothesis,\n",
    "the scientific method requires that one can test it. ... Even though the words \"hypothesis\" and \"theory\" are often used \n",
    "synonymously, a scientific hypothesis is not the same as a scientific theory.\n",
    "\n",
    "Examples of hypothesis statements: If garlic repels fleas, then a dog that is given garlic every day will not get fleas. \n",
    "Bacterial growth may be affected by moisture levels in the air. If sugar causes cavities, then people who eat a lot of candy may\n",
    "be more prone to cavities."
   ]
  }
 ],
 "metadata": {
  "kernelspec": {
   "display_name": "Python 3 (ipykernel)",
   "language": "python",
   "name": "python3"
  },
  "language_info": {
   "codemirror_mode": {
    "name": "ipython",
    "version": 3
   },
   "file_extension": ".py",
   "mimetype": "text/x-python",
   "name": "python",
   "nbconvert_exporter": "python",
   "pygments_lexer": "ipython3",
   "version": "3.10.6"
  }
 },
 "nbformat": 4,
 "nbformat_minor": 5
}
